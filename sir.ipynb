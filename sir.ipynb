{
 "cells": [
  {
   "cell_type": "code",
   "execution_count": 87,
   "metadata": {},
   "outputs": [],
   "source": [
    "import numpy as np\n",
    "import matplotlib.pyplot as plt\n",
    "from scipy.integrate import odeint\n",
    "from scipy.optimize import minimize\n",
    "import pandas as pd\n",
    "from scipy.integrate import solve_ivp"
   ]
  },
  {
   "cell_type": "code",
   "execution_count": 20,
   "metadata": {},
   "outputs": [
    {
     "data": {
      "text/html": [
       "<div>\n",
       "<style scoped>\n",
       "    .dataframe tbody tr th:only-of-type {\n",
       "        vertical-align: middle;\n",
       "    }\n",
       "\n",
       "    .dataframe tbody tr th {\n",
       "        vertical-align: top;\n",
       "    }\n",
       "\n",
       "    .dataframe thead th {\n",
       "        text-align: right;\n",
       "    }\n",
       "</style>\n",
       "<table border=\"1\" class=\"dataframe\">\n",
       "  <thead>\n",
       "    <tr style=\"text-align: right;\">\n",
       "      <th></th>\n",
       "      <th>precinct</th>\n",
       "      <th>party_detailed</th>\n",
       "      <th>votes</th>\n",
       "      <th>county_name</th>\n",
       "      <th>county_fips</th>\n",
       "      <th>candidate</th>\n",
       "    </tr>\n",
       "  </thead>\n",
       "  <tbody>\n",
       "    <tr>\n",
       "      <th>0</th>\n",
       "      <td>001</td>\n",
       "      <td>DEMOCRAT</td>\n",
       "      <td>490</td>\n",
       "      <td>PIMA</td>\n",
       "      <td>4019</td>\n",
       "      <td>KYRSTEN SINEMA</td>\n",
       "    </tr>\n",
       "    <tr>\n",
       "      <th>1</th>\n",
       "      <td>0001 ACACIA</td>\n",
       "      <td>DEMOCRAT</td>\n",
       "      <td>1209</td>\n",
       "      <td>MARICOPA</td>\n",
       "      <td>4013</td>\n",
       "      <td>KYRSTEN SINEMA</td>\n",
       "    </tr>\n",
       "    <tr>\n",
       "      <th>2</th>\n",
       "      <td>0001 ACACIA</td>\n",
       "      <td>GREEN</td>\n",
       "      <td>84</td>\n",
       "      <td>MARICOPA</td>\n",
       "      <td>4013</td>\n",
       "      <td>ANGELA GREEN</td>\n",
       "    </tr>\n",
       "    <tr>\n",
       "      <th>3</th>\n",
       "      <td>0001 ACACIA</td>\n",
       "      <td>REPUBLICAN</td>\n",
       "      <td>891</td>\n",
       "      <td>MARICOPA</td>\n",
       "      <td>4013</td>\n",
       "      <td>MARTHA MCSALLY</td>\n",
       "    </tr>\n",
       "    <tr>\n",
       "      <th>4</th>\n",
       "      <td>0002 ACOMA</td>\n",
       "      <td>DEMOCRAT</td>\n",
       "      <td>757</td>\n",
       "      <td>MARICOPA</td>\n",
       "      <td>4013</td>\n",
       "      <td>KYRSTEN SINEMA</td>\n",
       "    </tr>\n",
       "    <tr>\n",
       "      <th>...</th>\n",
       "      <td>...</td>\n",
       "      <td>...</td>\n",
       "      <td>...</td>\n",
       "      <td>...</td>\n",
       "      <td>...</td>\n",
       "      <td>...</td>\n",
       "    </tr>\n",
       "    <tr>\n",
       "      <th>4114</th>\n",
       "      <td>0 DESERT CEDARS</td>\n",
       "      <td>GREEN</td>\n",
       "      <td>39</td>\n",
       "      <td>PINAL</td>\n",
       "      <td>4021</td>\n",
       "      <td>ANGELA GREEN</td>\n",
       "    </tr>\n",
       "    <tr>\n",
       "      <th>4115</th>\n",
       "      <td>0 DESERT CEDARS</td>\n",
       "      <td>REPUBLICAN</td>\n",
       "      <td>529</td>\n",
       "      <td>PINAL</td>\n",
       "      <td>4021</td>\n",
       "      <td>MARTHA MCSALLY</td>\n",
       "    </tr>\n",
       "    <tr>\n",
       "      <th>4116</th>\n",
       "      <td>0 EHRENBERG</td>\n",
       "      <td>DEMOCRAT</td>\n",
       "      <td>44</td>\n",
       "      <td>LA PAZ</td>\n",
       "      <td>4012</td>\n",
       "      <td>KYRSTEN SINEMA</td>\n",
       "    </tr>\n",
       "    <tr>\n",
       "      <th>4117</th>\n",
       "      <td>0 EHRENBERG</td>\n",
       "      <td>GREEN</td>\n",
       "      <td>8</td>\n",
       "      <td>LA PAZ</td>\n",
       "      <td>4012</td>\n",
       "      <td>ANGELA GREEN</td>\n",
       "    </tr>\n",
       "    <tr>\n",
       "      <th>4118</th>\n",
       "      <td>0 EHRENBERG</td>\n",
       "      <td>REPUBLICAN</td>\n",
       "      <td>161</td>\n",
       "      <td>LA PAZ</td>\n",
       "      <td>4012</td>\n",
       "      <td>MARTHA MCSALLY</td>\n",
       "    </tr>\n",
       "  </tbody>\n",
       "</table>\n",
       "<p>4119 rows × 6 columns</p>\n",
       "</div>"
      ],
      "text/plain": [
       "             precinct party_detailed  votes county_name  county_fips  \\\n",
       "0                 001       DEMOCRAT    490        PIMA         4019   \n",
       "1         0001 ACACIA       DEMOCRAT   1209    MARICOPA         4013   \n",
       "2         0001 ACACIA          GREEN     84    MARICOPA         4013   \n",
       "3         0001 ACACIA     REPUBLICAN    891    MARICOPA         4013   \n",
       "4          0002 ACOMA       DEMOCRAT    757    MARICOPA         4013   \n",
       "...               ...            ...    ...         ...          ...   \n",
       "4114  0 DESERT CEDARS          GREEN     39       PINAL         4021   \n",
       "4115  0 DESERT CEDARS     REPUBLICAN    529       PINAL         4021   \n",
       "4116      0 EHRENBERG       DEMOCRAT     44      LA PAZ         4012   \n",
       "4117      0 EHRENBERG          GREEN      8      LA PAZ         4012   \n",
       "4118      0 EHRENBERG     REPUBLICAN    161      LA PAZ         4012   \n",
       "\n",
       "           candidate  \n",
       "0     KYRSTEN SINEMA  \n",
       "1     KYRSTEN SINEMA  \n",
       "2       ANGELA GREEN  \n",
       "3     MARTHA MCSALLY  \n",
       "4     KYRSTEN SINEMA  \n",
       "...              ...  \n",
       "4114    ANGELA GREEN  \n",
       "4115  MARTHA MCSALLY  \n",
       "4116  KYRSTEN SINEMA  \n",
       "4117    ANGELA GREEN  \n",
       "4118  MARTHA MCSALLY  \n",
       "\n",
       "[4119 rows x 6 columns]"
      ]
     },
     "execution_count": 20,
     "metadata": {},
     "output_type": "execute_result"
    }
   ],
   "source": [
    "df = pd.read_csv(\"output.csv\")\n",
    "df"
   ]
  },
  {
   "cell_type": "code",
   "execution_count": 21,
   "metadata": {},
   "outputs": [],
   "source": [
    "df['total_votes'] = df.groupby('precinct')['votes'].transform('sum')"
   ]
  },
  {
   "cell_type": "code",
   "execution_count": 27,
   "metadata": {},
   "outputs": [],
   "source": [
    "df['S0'] = df['total_votes']\n",
    "df['I_final'] = df['votes']\n",
    "df['R_final'] = 0.2 * df['I_final']\n",
    "df['I_final'] -= df['R_final']"
   ]
  },
  {
   "cell_type": "code",
   "execution_count": 101,
   "metadata": {},
   "outputs": [],
   "source": [
    "def sir_model(y,t,  beta, gamma):\n",
    "    \"\"\"SIR model equations.\"\"\"\n",
    "    S, I, R = y  # Ensure y is unpacked correctly\n",
    "    dSdt = -beta * S * I\n",
    "    dIdt = beta * S * I - gamma * I\n",
    "    dRdt = gamma * I\n",
    "    return [dSdt, dIdt, dRdt]"
   ]
  },
  {
   "cell_type": "code",
   "execution_count": 103,
   "metadata": {},
   "outputs": [],
   "source": [
    "def sir_model1(t, y,  beta, gamma):\n",
    "    \"\"\"SIR model equations.\"\"\"\n",
    "    S, I, R = y  # Ensure y is unpacked correctly\n",
    "    dSdt = -beta * S * I\n",
    "    dIdt = beta * S * I - gamma * I\n",
    "    dRdt = gamma * I\n",
    "    return [dSdt, dIdt, dRdt]"
   ]
  },
  {
   "cell_type": "code",
   "execution_count": 99,
   "metadata": {},
   "outputs": [],
   "source": [
    "def estimate_parameters(precinct_data, T=60):\n",
    "    \n",
    "    S0 = max(precinct_data['S0'].values[0], 1.5 * precinct_data['I_final'].values[0])\n",
    "    I_final = max(precinct_data['I_final'].values[0], 1)\n",
    "    R_final = max(precinct_data['R_final'].values[0], 1)\n",
    "\n",
    "    def loss(params):\n",
    "        beta, gamma = params\n",
    "\n",
    "        t = np.linspace(0, T, 1000)\n",
    "        sol = odeint(sir_model, [S0 - I_final - R_final, I_final, R_final], t, args=(beta, gamma))\n",
    "        S_T, I_T, R_T = sol[-1]  \n",
    "\n",
    "        error = (I_T - I_final)**2 + (R_T - R_final)**2\n",
    "        return error\n",
    "\n",
    "    initial_guess = [0.01, 0.01]\n",
    "\n",
    "    result = minimize(loss, initial_guess, bounds=[(0.0001, 1), (0.0001, 1)], method='L-BFGS-B')\n",
    "    return result.x if result.success else (None, None)\n"
   ]
  },
  {
   "cell_type": "code",
   "execution_count": 102,
   "metadata": {},
   "outputs": [
    {
     "name": "stdout",
     "output_type": "stream",
     "text": [
      "KYRSTEN SINEMA: β = 0.00510, γ = 0.00510\n",
      "ANGELA GREEN: β = 0.01107, γ = 0.01107\n",
      "MARTHA MCSALLY: β = 0.00650, γ = 0.00649\n"
     ]
    }
   ],
   "source": [
    "sir_params = {}\n",
    "\n",
    "for candidate in df['candidate'].unique():\n",
    "    precinct_data = df[df['candidate'] == candidate]\n",
    "    beta, gamma = estimate_parameters(precinct_data)\n",
    "    sir_params[candidate] = {'beta': beta, 'gamma': gamma}\n",
    "\n",
    "for candidate, params in sir_params.items():\n",
    "    print(f\"{candidate}: β = {params['beta']:.5f}, γ = {params['gamma']:.5f}\")"
   ]
  },
  {
   "cell_type": "code",
   "execution_count": 104,
   "metadata": {},
   "outputs": [],
   "source": [
    "def plot_sir_model(candidate, beta, gamma, S0, I0, R0, T=60):\n",
    "    \"\"\"Simulates and plots the SIR model over time for a given candidate.\"\"\"\n",
    "    \n",
    "    # Ensure reasonable initial conditions\n",
    "    I0 = max(1, 0.01 * S0)  # At least one influenced voter\n",
    "    S0 = max(1, S0 - I0 - R0)  # Adjust susceptible voters\n",
    "\n",
    "    # Time range\n",
    "    t = np.linspace(0, T, 1000)\n",
    "\n",
    "    # Solve using solve_ivp (more stable than odeint)\n",
    "    sol = solve_ivp(sir_model1, [0, T], [S0, I0, R0], args=(beta, gamma), method='DOP853', t_eval=t)\n",
    "\n",
    "    # Extract results\n",
    "    S, I, R = sol.y\n",
    "\n",
    "    # Plot results\n",
    "    plt.figure(figsize=(10, 6))\n",
    "    plt.plot(t, S, label=\"Undecided (S)\", color='blue')\n",
    "    plt.plot(t, I, label=\"Influenced (I)\", color='orange')\n",
    "    plt.plot(t, R, label=\"Committed (R)\", color='green')\n",
    "\n",
    "    plt.xlabel(\"Days Before Election\")\n",
    "    plt.ylabel(\"Number of Voters\")\n",
    "    plt.title(f\"SIR Model for {candidate}\")\n",
    "    plt.legend()\n",
    "    plt.grid(True)\n",
    "    plt.show()"
   ]
  },
  {
   "cell_type": "code",
   "execution_count": 105,
   "metadata": {},
   "outputs": [],
   "source": [
    "selected_candidate = \"KYRSTEN SINEMA\"\n",
    "S0 = df[df[\"candidate\"] == selected_candidate][\"S0\"].values[0]\n",
    "I0 = df[df[\"candidate\"] == selected_candidate][\"I_final\"].values[0]\n",
    "R0 = df[df[\"candidate\"] == selected_candidate][\"R_final\"].values[0]"
   ]
  },
  {
   "cell_type": "code",
   "execution_count": 106,
   "metadata": {},
   "outputs": [],
   "source": [
    "beta, gamma = sir_params[selected_candidate][\"beta\"], sir_params[selected_candidate][\"gamma\"]"
   ]
  },
  {
   "cell_type": "code",
   "execution_count": 107,
   "metadata": {},
   "outputs": [
    {
     "data": {
      "image/png": "[encoded data removed]",
      "text/plain": [
       "<Figure size 1000x600 with 1 Axes>"
      ]
     },
     "metadata": {},
     "output_type": "display_data"
    }
   ],
   "source": [
    "plot_sir_model(selected_candidate, beta, gamma, S0, I0, R0)"
   ]
  }
 ],
 "metadata": {
  "kernelspec": {
   "display_name": "Python 3",
   "language": "python",
   "name": "python3"
  },
  "language_info": {
   "codemirror_mode": {
    "name": "ipython",
    "version": 3
   },
   "file_extension": ".py",
   "mimetype": "text/x-python",
   "name": "python",
   "nbconvert_exporter": "python",
   "pygments_lexer": "ipython3",
   "version": "3.12.9"
  }
 },
 "nbformat": 4,
 "nbformat_minor": 2
}
